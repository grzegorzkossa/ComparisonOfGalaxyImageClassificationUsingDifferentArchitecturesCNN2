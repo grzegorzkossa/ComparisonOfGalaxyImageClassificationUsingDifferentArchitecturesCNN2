{
 "cells": [
  {
   "cell_type": "markdown",
   "id": "c7de88aa-72e4-4e48-9f72-b8b0e85693e1",
   "metadata": {},
   "source": [
    "# Test modeli"
   ]
  },
  {
   "cell_type": "markdown",
   "id": "abe14b86-605a-4d98-b08d-3cc44a211e50",
   "metadata": {},
   "source": [
    "# 1. Opis\n",
    "Celem tego notebook jest przetestowanie wszystkich nauczonych architektur w celu sprawdzenia poprawności otrzymywanych przewidywań. "
   ]
  },
  {
   "cell_type": "markdown",
   "id": "b0788b9c-f07c-4930-9282-91c9a2809505",
   "metadata": {},
   "source": [
    "## 2. Wczytanie niezbędnych bibliotek\n",
    "Przed rozpoczęciem pracy musimy wczytać potrzebne nam w tym notebook biblioteki."
   ]
  },
  {
   "cell_type": "code",
   "execution_count": 2,
   "id": "a252653e-d97e-44f4-8971-af6c050efde6",
   "metadata": {},
   "outputs": [],
   "source": [
    "TF_ENABLE_ONEDNN_OPTS=0\n",
    "import pandas as pd\n",
    "from astropy.io import fits\n",
    "import keras\n",
    "import ipywidgets as widgets\n",
    "import os\n",
    "from keras.optimizers import Adam\n",
    "import datetime\n",
    "from sklearn.metrics import accuracy_score\n",
    "\n",
    "from keras.applications.xception import preprocess_input as preprocess_input_xception\n",
    "from keras.applications.vgg16 import preprocess_input as preprocess_input_vgg\n",
    "from keras.applications.resnet50 import preprocess_input as preprocess_input_resnet\n",
    "from keras.applications.mobilenet import preprocess_input as preprocess_input_mobilenet\n",
    "from keras.applications.inception_resnet_v2 import preprocess_input as preprocess_input_inception_resnet\n",
    "from keras.applications.inception_v3 import preprocess_input as preprocess_input_inception"
   ]
  },
  {
   "cell_type": "markdown",
   "id": "112ac50e-8113-47f2-8e69-5ef5995d9e6d",
   "metadata": {},
   "source": [
    "## 2. Wczytanie zbiorów testowych\n",
    "Do tego etapu będziemy wykorzystywać jedynie dane testowe. Na jej podstawie ostatecznie można powiedzieć w jakim stopniu sprawdza się każda kolejna architektura"
   ]
  },
  {
   "cell_type": "code",
   "execution_count": 3,
   "id": "6c6733b3-b2cf-4f03-a202-3d16cef57fdd",
   "metadata": {},
   "outputs": [
    {
     "data": {
      "text/plain": [
       "((3548, 256, 256, 3), (3548,))"
      ]
     },
     "execution_count": 3,
     "metadata": {},
     "output_type": "execute_result"
    }
   ],
   "source": [
    "hdu_test = fits.open('Data/test.fits')\n",
    "x_test = hdu_test[0].data\n",
    "y_test = hdu_test[1].data\n",
    "x_test.shape, y_test.shape"
   ]
  },
  {
   "cell_type": "markdown",
   "id": "9ac50790-7d52-41d9-be6d-168cbe2deaa7",
   "metadata": {},
   "source": [
    "## 3. Wczytanie listy architektur\n",
    "W katalogu są przechowywane architektury, zostanie pobrana jej nazwa i będzie możliwe wygenerowanie dla niej test."
   ]
  },
  {
   "cell_type": "code",
   "execution_count": 4,
   "id": "ac42e79f-b2a2-4e9e-8c34-3c5678f4bd98",
   "metadata": {},
   "outputs": [],
   "source": [
    "files=os.listdir('./Models')\n",
    "models = list()\n",
    "for k in files:\n",
    "    models.append(k.strip('.keras'))"
   ]
  },
  {
   "cell_type": "markdown",
   "id": "db7b324a-1c12-464e-a638-ede6fe1958a1",
   "metadata": {},
   "source": [
    "## 4. Wybór architektury do testu\n",
    "Każdy test odbywa się pojedynczo. Dzięki temu elementowi notebook możemy wybrać, który w danym momencie ma zostać wykonany."
   ]
  },
  {
   "cell_type": "code",
   "execution_count": 5,
   "id": "2197aff4-40d3-438a-88d0-db97f5b250af",
   "metadata": {},
   "outputs": [
    {
     "data": {
      "application/vnd.jupyter.widget-view+json": {
       "model_id": "547b8e9630214cf9a15ef0bb3a6482f7",
       "version_major": 2,
       "version_minor": 0
      },
      "text/plain": [
       "RadioButtons(description='Wybierz architekture do testu:', layout=Layout(width='max_content'), options=('Incep…"
      ]
     },
     "metadata": {},
     "output_type": "display_data"
    }
   ],
   "source": [
    "out = 'DNN'\n",
    "rb = widgets.RadioButtons(\n",
    "    options=models,\n",
    "    description='Wybierz architekture do testu:',\n",
    "    layout={'width':'max_content'},\n",
    "    readout=True\n",
    ")\n",
    "display(rb)"
   ]
  },
  {
   "cell_type": "code",
   "execution_count": 6,
   "id": "a88e19a6-37c4-4e22-9a8a-0b12edca14f5",
   "metadata": {},
   "outputs": [
    {
     "data": {
      "text/plain": [
       "'MobileNet'"
      ]
     },
     "execution_count": 6,
     "metadata": {},
     "output_type": "execute_result"
    }
   ],
   "source": [
    "out = rb.value\n",
    "out"
   ]
  },
  {
   "cell_type": "code",
   "execution_count": 7,
   "id": "60f93519-a0ff-45b1-92cb-ac672ab8e76b",
   "metadata": {},
   "outputs": [
    {
     "name": "stdout",
     "output_type": "stream",
     "text": [
      "MobileNet\n"
     ]
    }
   ],
   "source": [
    "match out:\n",
    "    case \"Xception\" | \"Xception_full\":\n",
    "        x_test = preprocess_input_xception(x_test)\n",
    "        print(\"Xception\")\n",
    "    case \"VGG16\" | \"VGG16_full\":\n",
    "        x_test = preprocess_input_vgg(x_test)\n",
    "        print(\"VGG16\")\n",
    "    case \"ResNet50\" | \"ResNet50_full\":\n",
    "        x_test = preprocess_input_resnet(x_test)\n",
    "        print(\"ResNet50\")\n",
    "    case \"MobileNet\" | \"MobileNet_full\":\n",
    "        x_test = preprocess_input_mobilenet(x_test)\n",
    "        print(\"MobileNet\")\n",
    "    case \"InceptionResNet\" | \"InceptionResNet_full\":\n",
    "        x_test = preprocess_input_inception_resnet(x_test)\n",
    "        print(\"InceptionResNet\")\n",
    "    case \"Inception\" | \"Inception_full\":\n",
    "        x_test = preprocess_input_inception(x_test)\n",
    "        print(\"Inception\")\n",
    "    case _:\n",
    "        x_test = x_test / 255.0\n",
    "        print(\"Default\")"
   ]
  },
  {
   "cell_type": "markdown",
   "id": "12dc55c4-d33a-4d6f-90a1-cef7c971e778",
   "metadata": {},
   "source": [
    "## 5. Wykonanie testu\n",
    "W pierwszej kolejności jest pobierany wcześniej wybrany architektura, a następnie jest wykonywany test. Przez test rozumiemy podanie do naszych architektur danych, których model jeszcze nie widział i pobranie wyników, do jakich grup przydzielił dany obraz.\n",
    "Wyniki, jakie otrzymujemy oraz prawidłowe wartości, zostały zapisane w oddzielnym pliku, Dzięki temu będzie możliwość porównania różnych testów i wyciągnięcia odpowiednich wniosków."
   ]
  },
  {
   "cell_type": "code",
   "execution_count": 8,
   "id": "f0d4ad24-9dd3-470a-9351-e3d62712be84",
   "metadata": {},
   "outputs": [
    {
     "name": "stdout",
     "output_type": "stream",
     "text": [
      "Model: \"sequential\"\n",
      "_________________________________________________________________\n",
      " Layer (type)                Output Shape              Param #   \n",
      "=================================================================\n",
      " MobilenetV3large (Function  (None, 8, 8, 960)         2996352   \n",
      " al)                                                             \n",
      "                                                                 \n",
      " flatten (Flatten)           (None, 61440)             0         \n",
      "                                                                 \n",
      " dense (Dense)               (None, 10)                614410    \n",
      "                                                                 \n",
      "=================================================================\n",
      "Total params: 3610762 (13.77 MB)\n",
      "Trainable params: 3411322 (13.01 MB)\n",
      "Non-trainable params: 199440 (779.06 KB)\n",
      "_________________________________________________________________\n"
     ]
    }
   ],
   "source": [
    "model = keras.saving.load_model('./Models/'+out+'.keras')\n",
    "model_optimizer = Adam(learning_rate=0.001)\n",
    "model.compile(optimizer=model_optimizer, loss='sparse_categorical_crossentropy', metrics=['accuracy'])\n",
    "model.summary()"
   ]
  },
  {
   "cell_type": "code",
   "execution_count": 9,
   "id": "c77ffe34-38f7-417a-9a6c-114ea98d9e24",
   "metadata": {},
   "outputs": [
    {
     "name": "stdout",
     "output_type": "stream",
     "text": [
      "111/111 [==============================] - 22s 191ms/step\n",
      "Otrzymany wynik to:  28.07215332581736  %\n"
     ]
    }
   ],
   "source": [
    "predict = model.predict(x_test).argmax(axis=1)\n",
    "print(\"Otrzymany wynik to: \",(accuracy_score(y_test, predict)*100),\" %\")"
   ]
  },
  {
   "cell_type": "code",
   "execution_count": 10,
   "id": "bf66a5b3-59af-48c7-b89a-f2ea984f6215",
   "metadata": {},
   "outputs": [],
   "source": [
    "result = pd.DataFrame()\n",
    "result['predict'] = predict\n",
    "result['test'] = y_test\n",
    "result.to_csv('./Results/'+out+'.csv', index=False)"
   ]
  },
  {
   "cell_type": "code",
   "execution_count": null,
   "id": "efb6899a-769a-407f-8ab4-2ffa44f70629",
   "metadata": {},
   "outputs": [],
   "source": []
  }
 ],
 "metadata": {
  "kernelspec": {
   "display_name": "Python 3 (ipykernel)",
   "language": "python",
   "name": "python3"
  },
  "language_info": {
   "codemirror_mode": {
    "name": "ipython",
    "version": 3
   },
   "file_extension": ".py",
   "mimetype": "text/x-python",
   "name": "python",
   "nbconvert_exporter": "python",
   "pygments_lexer": "ipython3",
   "version": "3.10.13"
  },
  "widgets": {
   "application/vnd.jupyter.widget-state+json": {
    "state": {
     "547b8e9630214cf9a15ef0bb3a6482f7": {
      "model_module": "@jupyter-widgets/controls",
      "model_module_version": "2.0.0",
      "model_name": "RadioButtonsModel",
      "state": {
       "_options_labels": [
        "InceptionResNet",
        "ResNet50_full",
        "AlexNet_full",
        "Inception_full",
        "VGG16",
        "InceptionResNet_full",
        "MobileNet_full",
        "Xception_full",
        "ResNet50",
        "DNN_full",
        "Xception",
        "Inception",
        "LeNet5_full",
        "MobileNet",
        "VGG16_full"
       ],
       "description": "Wybierz architekture do testu:",
       "index": 0,
       "layout": "IPY_MODEL_a7af173005194026896429d326fb4399",
       "style": "IPY_MODEL_cc8b3b22339244acbc190754fc6a7625"
      }
     },
     "a7af173005194026896429d326fb4399": {
      "model_module": "@jupyter-widgets/base",
      "model_module_version": "2.0.0",
      "model_name": "LayoutModel",
      "state": {
       "width": "max_content"
      }
     },
     "cc8b3b22339244acbc190754fc6a7625": {
      "model_module": "@jupyter-widgets/controls",
      "model_module_version": "2.0.0",
      "model_name": "DescriptionStyleModel",
      "state": {
       "description_width": ""
      }
     }
    },
    "version_major": 2,
    "version_minor": 0
   }
  }
 },
 "nbformat": 4,
 "nbformat_minor": 5
}
