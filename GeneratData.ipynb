{
 "cells": [
  {
   "cell_type": "markdown",
   "id": "d01af960-3c58-44fb-bf47-10d314729139",
   "metadata": {},
   "source": [
    "# Przygotowanie danych do dalszych badań w projekcie\n",
    "***Autor: mgr inż. Grzegorz Kossakowski***\n",
    "\n",
    "---"
   ]
  },
  {
   "cell_type": "markdown",
   "id": "c65941be-49ae-4ac9-868b-3b4cb29389a8",
   "metadata": {},
   "source": [
    "## 1. Wprowadzenie"
   ]
  },
  {
   "cell_type": "markdown",
   "id": "fd8295ae-14fb-4fb3-a40d-5f7d62371243",
   "metadata": {},
   "source": [
    "Celem tego notebook jest pobranie danych i przygotowanie ich do dalszej pracy. Dane zostaną podzielone na trzy podstawowe części:\n",
    "- Dane uczące\n",
    "- Dane walidacyjne\n",
    "- Dane testowe\n",
    "  \n",
    "Każda z tych części zostanie zapisana w oddzielnym pliku w formacie fits, wraz z klasyfikacją. Ułatwi to późniejsze badania i pozwoli mieć pewność, że kolejne Notebook będą operowały na dokładnie tych samych zbiorach, co pozwoli porównać otrzymane wyniki.\n",
    "\n",
    "Źródłem danych dla tego projektu jest AstroNN DECals. Są to obrazy o znacznie lepszej rozdzielczości i jakości, w porównaniu do wersji pierwszej projektu [1]. Dzięki temu będę w stanie przeprowadzić analizę na bardziej rozbudowanych modelach CNN. Jednak samo skorzystanie z większych obrazów powoduje zmianę podejścia do projektu. W pierwszym projekcie mogłem w jednym notebook wykonać wszytkie niezbędne operacje teraz ze względu na dużo większe zdjęcia (256 * 256 * 3), każdy notebook został podzielony na mniejsze części, aby mój system miał szanse je przetworzyć w rozsądnym czasie."
   ]
  },
  {
   "cell_type": "markdown",
   "id": "713e1ea5-b153-400f-b620-f2514d06bcc3",
   "metadata": {},
   "source": [
    "W projekcie wykorzystywane są obrazy z projektu AstroNN DECals [2]. Są tam zgromadzone zdjęcia galaktyk w rozmiarze 256 * 256 * 3 w ilości 17 736 kolorowych zdjęć. Zdjęcia pochodzą z Data Release 10 (DR10) to dziesiąta publiczna wersja danych z badań Legacy Surveys. Do każdego zdjęcia przypisano klasyfikację pochodzącą z projektu Galaxy Zoo [3]. W tym projekcie naukowcy i amatorzy klasyfikują galaktyki według 10 klas:\n",
    " 1. Galaktyki zaburzone 1 081 zdjęć (Disturbed Galaxies)\n",
    " 2. Łączące się galaktyki 1 853 zdjęć (Merging Galaxies)\n",
    " 3. Galaktyki okrągłe gładkie 2 645 zdjęć (Round Smooth Galaxies)\n",
    " 4. Galaktyki okrągłe gładkie pośrednie 2 027 zdjęć (In-between Round Smooth Galaxies)\n",
    " 5. Galaktyki gładkie w kształcie cygara  334 zdjęć (Cigar Shaped Smooth Galaxies)\n",
    " 6. Galaktyki spiralne z poprzeczką 2 043 zdjęć (Barred Spiral Galaxies)\n",
    " 7. Galaktyki spiralne bez poprzeczki 1 829 zdjęć (Unbarred Tight Spiral Galaxies)\n",
    " 8. Galaktyki spiralne bez poprzeczki 2 628 zdjęć (Unbarred Loose Spiral Galaxies)\n",
    " 9. Galaktyki krawędziowe bez wybrzuszenia 1 423 zdjęć (Edge-on Galaxies without Bulge)\n",
    "10. Galaktyki krawędziowe z wybrzuszeniem 1 873 zdjęć (Edge-on Galaxies with Bulge)"
   ]
  },
  {
   "cell_type": "markdown",
   "id": "31ecc027-01ba-46f9-9340-5acb4ddc40f3",
   "metadata": {},
   "source": [
    "## 2. Pobranie potrzebnych bibliotek"
   ]
  },
  {
   "cell_type": "markdown",
   "id": "578097eb-1291-43a8-a56e-0bb78ed44b10",
   "metadata": {},
   "source": [
    "Pierwszym krokiem jest dodatnie wszystkich potrzebnych bibliotek, aby Notebook mógł zadziałać prawidłowo."
   ]
  },
  {
   "cell_type": "code",
   "execution_count": 2,
   "id": "5c06f7a0-c072-431f-8084-6742272185b0",
   "metadata": {},
   "outputs": [],
   "source": [
    "TF_ENABLE_ONEDNN_OPTS=0\n",
    "import os\n",
    "import numpy as np\n",
    "from astropy.io import fits\n",
    "from astroNN.datasets import galaxy10\n",
    "from sklearn.model_selection import train_test_split"
   ]
  },
  {
   "cell_type": "markdown",
   "id": "f2c5ab65-bca3-4688-bf1d-6de79cd67d02",
   "metadata": {},
   "source": [
    "## 3. Pobranie danych\n",
    "W tym miejscu pobieramy dane, na których będziemy pracować w dalszej części artykułu."
   ]
  },
  {
   "cell_type": "code",
   "execution_count": null,
   "id": "997e9f55-ed5d-479b-b355-93405deb5068",
   "metadata": {
    "scrolled": true
   },
   "outputs": [],
   "source": [
    "images, labels = galaxy10.load_data()"
   ]
  },
  {
   "cell_type": "markdown",
   "id": "cf4ce775-03dd-4ddc-bc8c-5cd6c65f5f34",
   "metadata": {},
   "source": [
    "## 4. Tworzenie katalogu\n",
    "Jednak aby zachować porządek, Wygenerowane dane w tym notebook będziemy przechowywać w oddzielnym katalogu. Jednak tego katalogu nie ma w repozytorium, dlatego po pobraniu repozytorium należy uruchomić notebook, aby odpowiednie pliki się wygenerowały. Jest to spowodowane wielkością utworzonych plików."
   ]
  },
  {
   "cell_type": "code",
   "execution_count": 4,
   "id": "401d198a-8e75-4633-a541-7f340fa70e7c",
   "metadata": {},
   "outputs": [],
   "source": [
    "path = 'Data'\n",
    "isExist = os.path.exists(path)\n",
    "if not isExist:\n",
    "  os.makedirs(path)"
   ]
  },
  {
   "cell_type": "markdown",
   "id": "fd88d660-0ae4-47d7-9af5-d748c5cfe9fd",
   "metadata": {},
   "source": [
    "## 5. Podział danych na trzy pod zbiory\n",
    "Celem tego kroku jest podział całego pobranego zbioru na trzy mniejsze zbiory. Pierwszy z tych zbirów to będą dane uczące. Jest ich najwięcej i za ich pomocą każdy model będzie uczony. Drugim zbiorem będzie zbiór walidacyjny. Po każdym wykonanym kroku następuje proces walidacji. Pozwala to ocenić postępy nauki już podczas uczenia.\n",
    "Trzeci zbiór to zbiór testowy. Na którego podstawie będziemy testować modele."
   ]
  },
  {
   "cell_type": "code",
   "execution_count": 5,
   "id": "d71dd5c3-85f2-461c-bd90-1bfbbe9ed122",
   "metadata": {},
   "outputs": [],
   "source": [
    "x_train, x_test, y_train, y_test = train_test_split(images, labels, test_size=0.2)\n",
    "x_train, x_valid, y_train, y_valid = train_test_split(x_train, y_train, test_size=0.2)"
   ]
  },
  {
   "cell_type": "markdown",
   "id": "d19d07d3-3cd8-4da1-9497-0f5537f21358",
   "metadata": {},
   "source": [
    "Jeszcze sprawdzam rozmiar paczek"
   ]
  },
  {
   "cell_type": "code",
   "execution_count": 6,
   "id": "840ca4ec-763b-4079-97e8-e61107e990ef",
   "metadata": {},
   "outputs": [
    {
     "data": {
      "text/plain": [
       "((11350, 256, 256, 3), (2838, 256, 256, 3), (3548, 256, 256, 3))"
      ]
     },
     "execution_count": 6,
     "metadata": {},
     "output_type": "execute_result"
    }
   ],
   "source": [
    "x_train.shape, x_valid.shape, x_test.shape"
   ]
  },
  {
   "cell_type": "markdown",
   "id": "d1001797-5f46-4b2a-8029-5f1541d8d134",
   "metadata": {},
   "source": [
    "## 6. Generowanie plików fits\n",
    "Został ostatni krok w tym notebook. Czyli wygenerowanie potrzebnych plików fits.\n",
    "\n",
    "Opis plików:"
   ]
  },
  {
   "cell_type": "markdown",
   "id": "afb2b889-4244-4dcc-8615-2360b921c79e",
   "metadata": {},
   "source": [
    "### train.fits\n",
    "Dane w tym pliku posłużą nam do uczenia kolejnych modeli."
   ]
  },
  {
   "cell_type": "code",
   "execution_count": 7,
   "id": "57b9cdd7-4240-4d08-b633-8087f9d92b0d",
   "metadata": {},
   "outputs": [],
   "source": [
    "hdu_train_image = fits.PrimaryHDU(x_train)\n",
    "hdu_train_label = fits.ImageHDU(y_train)\n",
    "hdu_train = fits.HDUList([hdu_train_image, hdu_train_label])\n",
    "hdu_train.writeto('Data/train.fits',overwrite=True)"
   ]
  },
  {
   "cell_type": "markdown",
   "id": "3ed509a6-1d01-4695-b89c-eec1a0ee6294",
   "metadata": {},
   "source": [
    "### valid.fits\n",
    "Dane w tym pliku posłużą do walidacji podczas uczenia."
   ]
  },
  {
   "cell_type": "code",
   "execution_count": 8,
   "id": "5e2438b6-9e0f-4c66-b172-4369fc8e9c65",
   "metadata": {},
   "outputs": [],
   "source": [
    "hdu_valid_image = fits.PrimaryHDU(x_valid)\n",
    "hdu_valid_label = fits.ImageHDU(y_valid)\n",
    "hdu_valid = fits.HDUList([hdu_valid_image, hdu_valid_label])\n",
    "hdu_valid.writeto('Data/valid.fits',overwrite=True)"
   ]
  },
  {
   "cell_type": "markdown",
   "id": "d8892365-4278-45ce-8c60-3597619505ae",
   "metadata": {},
   "source": [
    "### test.fits\n",
    "Dane posłużą do ostatecznego testowania poprawności działania otrzymanych modeli."
   ]
  },
  {
   "cell_type": "code",
   "execution_count": 9,
   "id": "c2eba191-db1b-47f7-a9be-723843b717db",
   "metadata": {},
   "outputs": [],
   "source": [
    "hdu_test_image = fits.PrimaryHDU(x_test)\n",
    "hdu_test_label = fits.ImageHDU(y_test)\n",
    "hdu_test = fits.HDUList([hdu_test_image, hdu_test_label])\n",
    "hdu_test.writeto('Data/test.fits',overwrite=True)"
   ]
  },
  {
   "cell_type": "markdown",
   "id": "827e9661-6242-4b04-b846-268bcdc627d7",
   "metadata": {},
   "source": [
    "## Literatura\n",
    "1. https://www.linkedin.com/pulse/por%C3%B3wnanie-klasyfikacji-obraz%C3%B3w-galaktyk-z-r%C3%B3%C5%BCnych-cnn-kossakowski-adctf/?trackingId=X%2BrVrE25A4JwO8RB4XP3Tg%3D%3D\n",
    "2. https://astronn.readthedocs.io/en/latest/galaxy10.html\n",
    "3. https://docs.astropy.org/en/stable/io/fits/"
   ]
  },
  {
   "cell_type": "code",
   "execution_count": null,
   "id": "bada7bc5-ff70-4a74-90cd-2f3c21ab21b9",
   "metadata": {},
   "outputs": [],
   "source": []
  }
 ],
 "metadata": {
  "kernelspec": {
   "display_name": "Python 3 (ipykernel)",
   "language": "python",
   "name": "python3"
  },
  "language_info": {
   "codemirror_mode": {
    "name": "ipython",
    "version": 3
   },
   "file_extension": ".py",
   "mimetype": "text/x-python",
   "name": "python",
   "nbconvert_exporter": "python",
   "pygments_lexer": "ipython3",
   "version": "3.10.13"
  },
  "widgets": {
   "application/vnd.jupyter.widget-state+json": {
    "state": {},
    "version_major": 2,
    "version_minor": 0
   }
  }
 },
 "nbformat": 4,
 "nbformat_minor": 5
}
